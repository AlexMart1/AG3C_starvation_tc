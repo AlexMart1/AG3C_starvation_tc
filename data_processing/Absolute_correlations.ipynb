{
 "metadata": {
  "name": ""
 },
 "nbformat": 3,
 "nbformat_minor": 0,
 "worksheets": [
  {
   "cells": [
    {
     "cell_type": "code",
     "collapsed": false,
     "input": [
      "import pickle\n",
      "import numpy as np\n",
      "import csv\n",
      "\n",
      "\n",
      "#normalize the protein counts using APEX\n",
      "pkey,Oi_values=pickle.load(open('../Results/Oi_name_map.p'))\n",
      "\n",
      "OI=dict()\n",
      "\n",
      "for i in range(len(Oi_values)-1):\n",
      "    if ''!=Oi_values[i]:\n",
      "        OI[pkey[i].lower()]=float(Oi_values[i+1])\n",
      "        "
     ],
     "language": "python",
     "metadata": {},
     "outputs": [],
     "prompt_number": 69
    },
    {
     "cell_type": "code",
     "collapsed": false,
     "input": [
      "(avout,stdout,refout)=pickle.load(open('../Results/prot_data_format_apex.p'))\n",
      "(rna_avout,rna_stdout,rna_refout)=pickle.load(open('../Results/rna_data_format_apex.p'))\n",
      "namemap=pickle.load(open('../Results/access_EC_name_map.p'))"
     ],
     "language": "python",
     "metadata": {},
     "outputs": [],
     "prompt_number": 96
    },
    {
     "cell_type": "code",
     "collapsed": false,
     "input": [
      "namemapr=dict()\n",
      "\n",
      "for n in namemap:\n",
      "    namemapr[namemap[n]]=n"
     ],
     "language": "python",
     "metadata": {},
     "outputs": [],
     "prompt_number": 98
    },
    {
     "cell_type": "code",
     "collapsed": false,
     "input": [
      "prot_table=dict()\n",
      "rna_table=dict()\n",
      "\n",
      "for i in range(len(refout)):\n",
      "    prot_table[refout[i]]=avout[i]\n",
      "for j in range(len(rna_refout)):\n",
      "    rna_table[rna_refout[j]]=rna_avout[j]\n"
     ],
     "language": "python",
     "metadata": {},
     "outputs": [],
     "prompt_number": 113
    },
    {
     "cell_type": "code",
     "collapsed": false,
     "input": [
      "import scipy.stats\n",
      "\n",
      "plt.figure()\n",
      "for i in range(9):\n",
      "    plt.subplot(3,3,i+1)\n",
      "    \n",
      "    compare=[]\n",
      "    for p in prot_table:\n",
      "        if p.lower() in namemap and p in prot_table:\n",
      "            if namemap[p.lower()] in rna_table:\n",
      "                compare.append([np.nan_to_num(rna_table[namemap[p.lower()]][i]),np.nan_to_num(prot_table[p][i])])\n",
      "        \n",
      "    plt.scatter(np.log10(np.array(compare).T[0]/np.mean(compare,axis=0)[0]),np.log10(np.array(compare).T[1]/np.mean(compare,axis=0)[1]))\n",
      "    print scipy.stats.spearmanr(np.log10(compare),axis=0)\n",
      "    \n",
      "    if i==0:\n",
      "        compare0=compare\n",
      "    \n",
      "plt.show()\n",
      "\n",
      "pickle.dump(compare0,open('/media/HD1_/Documents/AG3C/Results/compare_absolute_3hr.p','wb'))"
     ],
     "language": "python",
     "metadata": {},
     "outputs": [
      {
       "output_type": "stream",
       "stream": "stdout",
       "text": [
        "(0.59264420142904606, 2.6885386544110099e-224)\n",
        "(0.5881007290988709, 4.5537393836728772e-220)"
       ]
      },
      {
       "output_type": "stream",
       "stream": "stdout",
       "text": [
        "\n",
        "(0.57875780523976506, 1.40112904660714e-211)"
       ]
      },
      {
       "output_type": "stream",
       "stream": "stdout",
       "text": [
        "\n",
        "(0.58125954013090952, 7.9541674732713632e-214)"
       ]
      },
      {
       "output_type": "stream",
       "stream": "stdout",
       "text": [
        "\n",
        "(0.46025943144049142, 2.5246345311090067e-124)"
       ]
      },
      {
       "output_type": "stream",
       "stream": "stdout",
       "text": [
        "\n",
        "(0.33351699235714638, 1.5246859869999204e-62)"
       ]
      },
      {
       "output_type": "stream",
       "stream": "stdout",
       "text": [
        "\n",
        "(0.28994523480206974, 4.9220158912378453e-47)"
       ]
      },
      {
       "output_type": "stream",
       "stream": "stdout",
       "text": [
        "\n",
        "(0.3063169877875237, 1.4805314383283523e-52)"
       ]
      },
      {
       "output_type": "stream",
       "stream": "stdout",
       "text": [
        "\n",
        "(0.3936661022331438, 1.6467795899808343e-88)"
       ]
      },
      {
       "output_type": "stream",
       "stream": "stdout",
       "text": [
        "\n"
       ]
      },
      {
       "output_type": "stream",
       "stream": "stderr",
       "text": [
        "-c:14: RuntimeWarning: divide by zero encountered in log10\n"
       ]
      }
     ],
     "prompt_number": 134
    },
    {
     "cell_type": "code",
     "collapsed": false,
     "input": [
      "import pylab as plt\n",
      "plt.figure()\n",
      "plt.hist(np.nan_to_num(np.array(avout).T[0]),10000)\n",
      "plt.show()"
     ],
     "language": "python",
     "metadata": {},
     "outputs": [],
     "prompt_number": 102
    },
    {
     "cell_type": "code",
     "collapsed": false,
     "input": [
      "np.mean(compare,axis=0)"
     ],
     "language": "python",
     "metadata": {},
     "outputs": [
      {
       "metadata": {},
       "output_type": "pyout",
       "prompt_number": 132,
       "text": [
        "array([  5.23671348e-10,   1.73235485e-06])"
       ]
      }
     ],
     "prompt_number": 132
    },
    {
     "cell_type": "code",
     "collapsed": false,
     "input": [
      "item=[]\n",
      "with open('/media/HD1_/Documents/AG3C/Results/RNA_dseq/rna_code_only_data.csv') as csvfile:\n",
      "    reader=csv.reader(csvfile,delimiter='\\t')\n",
      "    for row in reader:\n",
      "        item.append(row[0])"
     ],
     "language": "python",
     "metadata": {},
     "outputs": [],
     "prompt_number": 63
    },
    {
     "cell_type": "code",
     "collapsed": false,
     "input": [
      "\n",
      "\n"
     ],
     "language": "python",
     "metadata": {},
     "outputs": []
    }
   ],
   "metadata": {}
  }
 ]
}