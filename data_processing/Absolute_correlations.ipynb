{
 "metadata": {
  "name": ""
 },
 "nbformat": 3,
 "nbformat_minor": 0,
 "worksheets": [
  {
   "cells": [
    {
     "cell_type": "code",
     "collapsed": false,
     "input": [
      "import pickle\n",
      "import numpy as np\n",
      "import csv\n",
      "\n",
      "\n",
      "#normalize the protein counts using APEX\n",
      "pkey,Oi_values=pickle.load(open('../Results/Oi_name_map.p'))\n",
      "\n",
      "OI=dict()\n",
      "\n",
      "for i in range(len(Oi_values)-1):\n",
      "    if ''!=Oi_values[i]:\n",
      "        OI[pkey[i].lower()]=float(Oi_values[i+1])\n",
      "        "
     ],
     "language": "python",
     "metadata": {},
     "outputs": [],
     "prompt_number": 2
    },
    {
     "cell_type": "code",
     "collapsed": false,
     "input": [
      "import pickle\n",
      "(avout,stdout,refout)=pickle.load(open('../data/prot_data_format_wapex.p'))\n",
      "(rna_avout,rna_stdout,rna_refout)=pickle.load(open('../data/rna_data_format_to_length.p'))\n",
      "namemap=pickle.load(open('../Results/access_EC_name_map.p'))"
     ],
     "language": "python",
     "metadata": {},
     "outputs": [
      {
       "ename": "EOFError",
       "evalue": "",
       "output_type": "pyerr",
       "traceback": [
        "\u001b[0;31m---------------------------------------------------------------------------\u001b[0m\n\u001b[0;31mEOFError\u001b[0m                                  Traceback (most recent call last)",
        "\u001b[0;32m<ipython-input-2-5f0af6da74da>\u001b[0m in \u001b[0;36m<module>\u001b[0;34m()\u001b[0m\n\u001b[1;32m      1\u001b[0m \u001b[0;32mimport\u001b[0m \u001b[0mpickle\u001b[0m\u001b[0;34m\u001b[0m\u001b[0m\n\u001b[0;32m----> 2\u001b[0;31m \u001b[0;34m(\u001b[0m\u001b[0mavout\u001b[0m\u001b[0;34m,\u001b[0m\u001b[0mstdout\u001b[0m\u001b[0;34m,\u001b[0m\u001b[0mrefout\u001b[0m\u001b[0;34m)\u001b[0m\u001b[0;34m=\u001b[0m\u001b[0mpickle\u001b[0m\u001b[0;34m.\u001b[0m\u001b[0mload\u001b[0m\u001b[0;34m(\u001b[0m\u001b[0mopen\u001b[0m\u001b[0;34m(\u001b[0m\u001b[0;34m'../data/prot_data_format_wapex.p'\u001b[0m\u001b[0;34m)\u001b[0m\u001b[0;34m)\u001b[0m\u001b[0;34m\u001b[0m\u001b[0m\n\u001b[0m\u001b[1;32m      3\u001b[0m \u001b[0;34m(\u001b[0m\u001b[0mrna_avout\u001b[0m\u001b[0;34m,\u001b[0m\u001b[0mrna_stdout\u001b[0m\u001b[0;34m,\u001b[0m\u001b[0mrna_refout\u001b[0m\u001b[0;34m)\u001b[0m\u001b[0;34m=\u001b[0m\u001b[0mpickle\u001b[0m\u001b[0;34m.\u001b[0m\u001b[0mload\u001b[0m\u001b[0;34m(\u001b[0m\u001b[0mopen\u001b[0m\u001b[0;34m(\u001b[0m\u001b[0;34m'../data/rna_data_format_to_length.p'\u001b[0m\u001b[0;34m)\u001b[0m\u001b[0;34m)\u001b[0m\u001b[0;34m\u001b[0m\u001b[0m\n\u001b[1;32m      4\u001b[0m \u001b[0mnamemap\u001b[0m\u001b[0;34m=\u001b[0m\u001b[0mpickle\u001b[0m\u001b[0;34m.\u001b[0m\u001b[0mload\u001b[0m\u001b[0;34m(\u001b[0m\u001b[0mopen\u001b[0m\u001b[0;34m(\u001b[0m\u001b[0;34m'../Results/access_EC_name_map.p'\u001b[0m\u001b[0;34m)\u001b[0m\u001b[0;34m)\u001b[0m\u001b[0;34m\u001b[0m\u001b[0m\n",
        "\u001b[0;32m/usr/lib/python2.7/pickle.pyc\u001b[0m in \u001b[0;36mload\u001b[0;34m(file)\u001b[0m\n\u001b[1;32m   1376\u001b[0m \u001b[0;34m\u001b[0m\u001b[0m\n\u001b[1;32m   1377\u001b[0m \u001b[0;32mdef\u001b[0m \u001b[0mload\u001b[0m\u001b[0;34m(\u001b[0m\u001b[0mfile\u001b[0m\u001b[0;34m)\u001b[0m\u001b[0;34m:\u001b[0m\u001b[0;34m\u001b[0m\u001b[0m\n\u001b[0;32m-> 1378\u001b[0;31m     \u001b[0;32mreturn\u001b[0m \u001b[0mUnpickler\u001b[0m\u001b[0;34m(\u001b[0m\u001b[0mfile\u001b[0m\u001b[0;34m)\u001b[0m\u001b[0;34m.\u001b[0m\u001b[0mload\u001b[0m\u001b[0;34m(\u001b[0m\u001b[0;34m)\u001b[0m\u001b[0;34m\u001b[0m\u001b[0m\n\u001b[0m\u001b[1;32m   1379\u001b[0m \u001b[0;34m\u001b[0m\u001b[0m\n\u001b[1;32m   1380\u001b[0m \u001b[0;32mdef\u001b[0m \u001b[0mloads\u001b[0m\u001b[0;34m(\u001b[0m\u001b[0mstr\u001b[0m\u001b[0;34m)\u001b[0m\u001b[0;34m:\u001b[0m\u001b[0;34m\u001b[0m\u001b[0m\n",
        "\u001b[0;32m/usr/lib/python2.7/pickle.pyc\u001b[0m in \u001b[0;36mload\u001b[0;34m(self)\u001b[0m\n\u001b[1;32m    856\u001b[0m             \u001b[0;32mwhile\u001b[0m \u001b[0;36m1\u001b[0m\u001b[0;34m:\u001b[0m\u001b[0;34m\u001b[0m\u001b[0m\n\u001b[1;32m    857\u001b[0m                 \u001b[0mkey\u001b[0m \u001b[0;34m=\u001b[0m \u001b[0mread\u001b[0m\u001b[0;34m(\u001b[0m\u001b[0;36m1\u001b[0m\u001b[0;34m)\u001b[0m\u001b[0;34m\u001b[0m\u001b[0m\n\u001b[0;32m--> 858\u001b[0;31m                 \u001b[0mdispatch\u001b[0m\u001b[0;34m[\u001b[0m\u001b[0mkey\u001b[0m\u001b[0;34m]\u001b[0m\u001b[0;34m(\u001b[0m\u001b[0mself\u001b[0m\u001b[0;34m)\u001b[0m\u001b[0;34m\u001b[0m\u001b[0m\n\u001b[0m\u001b[1;32m    859\u001b[0m         \u001b[0;32mexcept\u001b[0m \u001b[0m_Stop\u001b[0m\u001b[0;34m,\u001b[0m \u001b[0mstopinst\u001b[0m\u001b[0;34m:\u001b[0m\u001b[0;34m\u001b[0m\u001b[0m\n\u001b[1;32m    860\u001b[0m             \u001b[0;32mreturn\u001b[0m \u001b[0mstopinst\u001b[0m\u001b[0;34m.\u001b[0m\u001b[0mvalue\u001b[0m\u001b[0;34m\u001b[0m\u001b[0m\n",
        "\u001b[0;32m/usr/lib/python2.7/pickle.pyc\u001b[0m in \u001b[0;36mload_eof\u001b[0;34m(self)\u001b[0m\n\u001b[1;32m    878\u001b[0m \u001b[0;34m\u001b[0m\u001b[0m\n\u001b[1;32m    879\u001b[0m     \u001b[0;32mdef\u001b[0m \u001b[0mload_eof\u001b[0m\u001b[0;34m(\u001b[0m\u001b[0mself\u001b[0m\u001b[0;34m)\u001b[0m\u001b[0;34m:\u001b[0m\u001b[0;34m\u001b[0m\u001b[0m\n\u001b[0;32m--> 880\u001b[0;31m         \u001b[0;32mraise\u001b[0m \u001b[0mEOFError\u001b[0m\u001b[0;34m\u001b[0m\u001b[0m\n\u001b[0m\u001b[1;32m    881\u001b[0m     \u001b[0mdispatch\u001b[0m\u001b[0;34m[\u001b[0m\u001b[0;34m''\u001b[0m\u001b[0;34m]\u001b[0m \u001b[0;34m=\u001b[0m \u001b[0mload_eof\u001b[0m\u001b[0;34m\u001b[0m\u001b[0m\n\u001b[1;32m    882\u001b[0m \u001b[0;34m\u001b[0m\u001b[0m\n",
        "\u001b[0;31mEOFError\u001b[0m: "
       ]
      }
     ],
     "prompt_number": 2
    },
    {
     "cell_type": "code",
     "collapsed": false,
     "input": [
      "(avout_nacl,stdout_nacl,refout_nacl,nacl_cond)=pickle.load(open('/media/HD1_/Documents/AG3C/nacl_analysis/Protein_counts_nacl2_format_wapex.p'))"
     ],
     "language": "python",
     "metadata": {},
     "outputs": [],
     "prompt_number": 15
    },
    {
     "cell_type": "code",
     "collapsed": false,
     "input": [
      "avout_nacl_dict=dict()\n",
      "avout_dict=dict()"
     ],
     "language": "python",
     "metadata": {},
     "outputs": [
      {
       "metadata": {},
       "output_type": "pyout",
       "prompt_number": 18,
       "text": [
        "(8,\n",
        " array(['gene_id', 'exp_5mM', 'stationary_5mM', 'exp_100mM',\n",
        "       'stationary_100mM', 'exp_200mM', 'stationary_200mM', 'exp_300mM',\n",
        "       'stationary_300mM'], dtype=object))"
       ]
      }
     ],
     "prompt_number": 18
    },
    {
     "cell_type": "code",
     "collapsed": false,
     "input": [
      "(avout,stdout,refout)=pickle.load(open('../data/prot_shuffled_data_format.p'))\n",
      "(rna_avout,rna_stdout,rna_refout)=pickle.load(open('../data/rna_shuffled_data_format.p'))\n",
      "namemap=pickle.load(open('../Results/access_EC_name_map.p'))"
     ],
     "language": "python",
     "metadata": {},
     "outputs": [],
     "prompt_number": 48
    },
    {
     "cell_type": "code",
     "collapsed": false,
     "input": [
      "avout=[np.array(a)*1800.0*1000.0 for a in avout]\n",
      "stdout=[np.array(s)*1800.0*1000.0 for s in stdout]\n",
      "\n"
     ],
     "language": "python",
     "metadata": {},
     "outputs": [],
     "prompt_number": 8
    },
    {
     "cell_type": "code",
     "collapsed": false,
     "input": [
      "pickle.dump((avout,stdout,refout),open('../Results/prot_data_format_apex.p','wb'))"
     ],
     "language": "python",
     "metadata": {},
     "outputs": [],
     "prompt_number": 115
    },
    {
     "cell_type": "code",
     "collapsed": false,
     "input": [
      "(avout_rel,stdout_rel,refout_rel)=pickle.load(open('../Results/prot_data_format.p'))"
     ],
     "language": "python",
     "metadata": {},
     "outputs": [],
     "prompt_number": 114
    },
    {
     "cell_type": "code",
     "collapsed": false,
     "input": [
      "I=190\n",
      "idx=np.where(np.array(refout)==refout_rel[I])[0]\n",
      "\n",
      "plt.plot(range(9),avout_rel[I],range(9),avout[idx]/(np.max(np.nan_to_num(avout[idx]))))\n",
      "plt.show()"
     ],
     "language": "python",
     "metadata": {},
     "outputs": [],
     "prompt_number": 113
    },
    {
     "cell_type": "code",
     "collapsed": false,
     "input": [
      "np.max(np.nan_to_num(avout))/2.0"
     ],
     "language": "python",
     "metadata": {},
     "outputs": [
      {
       "metadata": {},
       "output_type": "pyout",
       "prompt_number": 117,
       "text": [
        "13445.504746881981"
       ]
      }
     ],
     "prompt_number": 117
    },
    {
     "cell_type": "code",
     "collapsed": false,
     "input": [
      "namemapr=dict()\n",
      "\n",
      "for n in namemap:\n",
      "    namemapr[namemap[n]]=n"
     ],
     "language": "python",
     "metadata": {},
     "outputs": [],
     "prompt_number": 25
    },
    {
     "cell_type": "code",
     "collapsed": false,
     "input": [
      "prot_table=dict()\n",
      "rna_table=dict()\n",
      "\n",
      "for i in range(len(refout)):\n",
      "    prot_table[refout[i]]=avout[i]\n",
      "for j in range(len(rna_refout)):\n",
      "    rna_table[rna_refout[j]]=rna_avout[j]\n"
     ],
     "language": "python",
     "metadata": {},
     "outputs": [],
     "prompt_number": 3
    },
    {
     "cell_type": "code",
     "collapsed": false,
     "input": [
      "import scipy.stats\n",
      "import pylab as plt\n",
      "import brewer2mpl\n",
      "\n",
      "set2 = brewer2mpl.get_map('Set2', 'qualitative', 8).mpl_colors\n",
      "\n",
      "T=[3,4,5,6,8,24,48,24*7,24*14]\n",
      "\n",
      "plt.figure(figsize=(12,10))\n",
      "for i in range(9):\n",
      "    plt.subplot(3,3,i+1)\n",
      "    \n",
      "    compare=[]\n",
      "    for p in prot_table:\n",
      "        if p.lower() in namemap and p in prot_table:\n",
      "            if namemap[p.lower()] in rna_table:\n",
      "                temp=[np.nan_to_num(rna_table[namemap[p.lower()]][i]),np.nan_to_num(prot_table[p][i])]\n",
      "                if temp[0]!=0 and temp[1]!=0:\n",
      "                    compare.append(temp)\n",
      "        \n",
      "    plt.scatter(np.log10(np.array(compare).T[0]/np.mean(compare,axis=0)[0]),np.log10(np.array(compare).T[1]/np.mean(compare,axis=0)[1]),color=set2[2])\n",
      "    cc=scipy.stats.spearmanr(np.log10(compare),axis=0)\n",
      "    plt.xlabel('log(mRNA/<mRNA>)')\n",
      "    plt.ylabel('log(Protein/<Protein>)')\n",
      "    plt.title('time =' + str(T[i])+' hrs')\n",
      "    plt.legend([r'$\\rho $' + '= ' +str(round(cc[0],2))])\n",
      "    plt.xlim([-4,4])\n",
      "    plt.ylim([-3,3])\n",
      "    plt.tight_layout()\n",
      "    \n",
      "    if i==0:\n",
      "        compare0=compare\n",
      "\n",
      "#plt.savefig('/media/HD1_/Documents/AG3C/Plots/Absolute_correlations_all_supp.pdf')   \n",
      "plt.show()\n",
      "\n",
      "\n",
      "#pickle.dump(compare0,open('/media/HD1_/Documents/AG3C/Results/compare_absolute_3hr.p','wb'))"
     ],
     "language": "python",
     "metadata": {},
     "outputs": [],
     "prompt_number": 5
    },
    {
     "cell_type": "code",
     "collapsed": false,
     "input": [
      "print len(np.where(np.isnan(np.array(avout).T[1]))[0]),len(np.where(np.isnan(np.array(avout).T[7]))[0])\n",
      "print len(list(set(list(np.where(np.isnan(np.array(avout).T[7]))[0])+list(np.where(np.isnan(np.array(avout).T[0]))[0])))) "
     ],
     "language": "python",
     "metadata": {},
     "outputs": [
      {
       "output_type": "stream",
       "stream": "stdout",
       "text": [
        "502 516\n",
        "610\n"
       ]
      }
     ],
     "prompt_number": 46
    },
    {
     "cell_type": "code",
     "collapsed": false,
     "input": [
      "item=[]\n",
      "with open('/media/HD1_/Documents/AG3C/Results/RNA_dseq/rna_code_only_data.csv') as csvfile:\n",
      "    reader=csv.reader(csvfile,delimiter='\\t')\n",
      "    for row in reader:\n",
      "        item.append(row[0])"
     ],
     "language": "python",
     "metadata": {},
     "outputs": [],
     "prompt_number": 63
    },
    {
     "cell_type": "code",
     "collapsed": false,
     "input": [
      "i=0\n",
      "compare=[]\n",
      "for p in prot_table:\n",
      "    if p.lower() in namemap and p in prot_table:\n",
      "        if namemap[p.lower()] in rna_table:\n",
      "            compare.append([np.nan_to_num(rna_table[namemap[p.lower()]][i]),np.nan_to_num(prot_table[p][i])])"
     ],
     "language": "python",
     "metadata": {},
     "outputs": [],
     "prompt_number": 56
    },
    {
     "cell_type": "code",
     "collapsed": false,
     "input": [
      "pickle.dump(compare,open('../data/prot_results/prot_rna_compare_3hr.p','wb'))"
     ],
     "language": "python",
     "metadata": {},
     "outputs": [],
     "prompt_number": 58
    },
    {
     "cell_type": "code",
     "collapsed": false,
     "input": [],
     "language": "python",
     "metadata": {},
     "outputs": []
    }
   ],
   "metadata": {}
  }
 ]
}